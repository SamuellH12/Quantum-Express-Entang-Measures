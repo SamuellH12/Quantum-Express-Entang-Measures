{
 "cells": [
  {
   "cell_type": "code",
   "execution_count": 4,
   "metadata": {},
   "outputs": [
    {
     "name": "stdout",
     "output_type": "stream",
     "text": [
      "Defaulting to user installation because normal site-packages is not writeable\n",
      "Requirement already satisfied: qiskit in c:\\users\\samue\\appdata\\roaming\\python\\python313\\site-packages (2.0.0)\n",
      "Requirement already satisfied: rustworkx>=0.15.0 in c:\\users\\samue\\appdata\\roaming\\python\\python313\\site-packages (from qiskit) (0.16.0)\n",
      "Requirement already satisfied: numpy<3,>=1.17 in c:\\users\\samue\\appdata\\roaming\\python\\python313\\site-packages (from qiskit) (2.2.4)\n",
      "Requirement already satisfied: scipy>=1.5 in c:\\users\\samue\\appdata\\roaming\\python\\python313\\site-packages (from qiskit) (1.15.2)\n",
      "Requirement already satisfied: sympy>=1.3 in c:\\users\\samue\\appdata\\roaming\\python\\python313\\site-packages (from qiskit) (1.13.3)\n",
      "Requirement already satisfied: dill>=0.3 in c:\\users\\samue\\appdata\\roaming\\python\\python313\\site-packages (from qiskit) (0.3.9)\n",
      "Requirement already satisfied: python-dateutil>=2.8.0 in c:\\users\\samue\\appdata\\roaming\\python\\python313\\site-packages (from qiskit) (2.9.0.post0)\n",
      "Requirement already satisfied: stevedore>=3.0.0 in c:\\users\\samue\\appdata\\roaming\\python\\python313\\site-packages (from qiskit) (5.4.1)\n",
      "Requirement already satisfied: typing-extensions in c:\\users\\samue\\appdata\\roaming\\python\\python313\\site-packages (from qiskit) (4.13.1)\n",
      "Requirement already satisfied: symengine<0.14,>=0.11 in c:\\users\\samue\\appdata\\roaming\\python\\python313\\site-packages (from qiskit) (0.13.0)\n",
      "Requirement already satisfied: six>=1.5 in c:\\users\\samue\\appdata\\roaming\\python\\python313\\site-packages (from python-dateutil>=2.8.0->qiskit) (1.17.0)\n",
      "Requirement already satisfied: pbr>=2.0.0 in c:\\users\\samue\\appdata\\roaming\\python\\python313\\site-packages (from stevedore>=3.0.0->qiskit) (6.1.1)\n",
      "Requirement already satisfied: mpmath<1.4,>=1.1.0 in c:\\users\\samue\\appdata\\roaming\\python\\python313\\site-packages (from sympy>=1.3->qiskit) (1.3.0)\n",
      "Requirement already satisfied: setuptools in c:\\users\\samue\\appdata\\roaming\\python\\python313\\site-packages (from pbr>=2.0.0->stevedore>=3.0.0->qiskit) (78.1.0)\n",
      "Defaulting to user installation because normal site-packages is not writeable"
     ]
    },
    {
     "name": "stderr",
     "output_type": "stream",
     "text": [
      "ERROR: Invalid requirement: '#': Expected package name at the start of dependency specifier\n",
      "    #\n",
      "    ^\n"
     ]
    },
    {
     "name": "stdout",
     "output_type": "stream",
     "text": [
      "\n",
      "Defaulting to user installation because normal site-packages is not writeable\n"
     ]
    },
    {
     "name": "stderr",
     "output_type": "stream",
     "text": [
      "ERROR: Invalid requirement: '#': Expected package name at the start of dependency specifier\n",
      "    #\n",
      "    ^\n"
     ]
    },
    {
     "name": "stdout",
     "output_type": "stream",
     "text": [
      "^C\n"
     ]
    }
   ],
   "source": [
    "! pip install qiskit\n",
    "# Necessário para usar o simulador\n",
    "! pip install qiskit_aer \n",
    "! pip install matplotlib\n",
    "# Necessário para usar o método draw() no modo mpl\n",
    "! pip install pylatexenc \n",
    "! pip install PennyLane"
   ]
  },
  {
   "cell_type": "code",
   "execution_count": 1,
   "metadata": {},
   "outputs": [
    {
     "ename": "ModuleNotFoundError",
     "evalue": "No module named 'qiskit'",
     "output_type": "error",
     "traceback": [
      "\u001b[1;31m---------------------------------------------------------------------------\u001b[0m",
      "\u001b[1;31mModuleNotFoundError\u001b[0m                       Traceback (most recent call last)",
      "Cell \u001b[1;32mIn[1], line 1\u001b[0m\n\u001b[1;32m----> 1\u001b[0m \u001b[38;5;28;01mfrom\u001b[39;00m \u001b[38;5;21;01mcircuits\u001b[39;00m\u001b[38;5;21;01m.\u001b[39;00m\u001b[38;5;21;01mcircuitFromFile\u001b[39;00m \u001b[38;5;28;01mimport\u001b[39;00m get_circuit_from_file \n\u001b[0;32m      2\u001b[0m qc \u001b[38;5;241m=\u001b[39m get_circuit_from_file(\u001b[38;5;124m'\u001b[39m\u001b[38;5;124mcircuit0.descr\u001b[39m\u001b[38;5;124m'\u001b[39m)\n\u001b[0;32m      3\u001b[0m qc\n",
      "File \u001b[1;32mc:\\Users\\samue\\Documents\\IC\\experimentos\\Quantum-Express-Entang-Measures\\circuits\\circuitFromFile.py:1\u001b[0m\n\u001b[1;32m----> 1\u001b[0m \u001b[38;5;28;01mfrom\u001b[39;00m \u001b[38;5;21;01mqiskit\u001b[39;00m \u001b[38;5;28;01mimport\u001b[39;00m QuantumCircuit\n\u001b[0;32m      3\u001b[0m \u001b[38;5;28;01mdef\u001b[39;00m \u001b[38;5;21mparse_params_file\u001b[39m(path: \u001b[38;5;28mstr\u001b[39m):\n\u001b[0;32m      4\u001b[0m \u001b[38;5;250m    \u001b[39m\u001b[38;5;124;03m'''\u001b[39;00m\n\u001b[0;32m      5\u001b[0m \u001b[38;5;124;03m    Read the params in the path file and return a\u001b[39;00m\n\u001b[0;32m      6\u001b[0m \u001b[38;5;124;03m    dict with named params, list of sequencial params\\n\u001b[39;00m\n\u001b[0;32m      7\u001b[0m \u001b[38;5;124;03m    ({}, [])\u001b[39;00m\n\u001b[0;32m      8\u001b[0m \u001b[38;5;124;03m    '''\u001b[39;00m\n",
      "\u001b[1;31mModuleNotFoundError\u001b[0m: No module named 'qiskit'"
     ]
    }
   ],
   "source": [
    "from circuits.circuitFromFile import get_circuit_from_file \n",
    "qc = get_circuit_from_file('circuit0.descr')\n",
    "qc"
   ]
  }
 ],
 "metadata": {
  "kernelspec": {
   "display_name": "Python 3",
   "language": "python",
   "name": "python3"
  },
  "language_info": {
   "codemirror_mode": {
    "name": "ipython",
    "version": 3
   },
   "file_extension": ".py",
   "mimetype": "text/x-python",
   "name": "python",
   "nbconvert_exporter": "python",
   "pygments_lexer": "ipython3",
   "version": "3.10.0"
  }
 },
 "nbformat": 4,
 "nbformat_minor": 2
}
